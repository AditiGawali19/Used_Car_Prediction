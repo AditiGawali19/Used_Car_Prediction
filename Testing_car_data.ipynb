{
 "cells": [
  {
   "cell_type": "code",
   "execution_count": 1,
   "id": "7d880853-e2df-4ac3-a4ad-848978bdd113",
   "metadata": {},
   "outputs": [],
   "source": [
    "import numpy as np\n",
    "import pickle\n",
    "import json\n",
    "import warnings\n",
    "warnings.filterwarnings('ignore')"
   ]
  },
  {
   "cell_type": "code",
   "execution_count": 2,
   "id": "0dcb4ac4-5bb2-4371-8464-6093b75390ec",
   "metadata": {},
   "outputs": [],
   "source": [
    "with open(\"lin_reg_model.pkl\", 'rb') as f:\n",
    "    model = pickle.load(f)\n",
    "\n",
    "with open(\"column_data.json\", 'r') as f:\n",
    "    col_data = json.load(f)"
   ]
  },
  {
   "cell_type": "code",
   "execution_count": 3,
   "id": "609df7a6-4dc4-47f1-9f9c-fc8d1a0d98d3",
   "metadata": {},
   "outputs": [
    {
     "data": {
      "text/plain": [
       "array(['Year', 'Present_Price', 'Kms_Driven', 'Seller_Type',\n",
       "       'Transmission', 'Fuel_Type_CNG', 'Fuel_Type_Diesel',\n",
       "       'Fuel_Type_Petrol'], dtype=object)"
      ]
     },
     "execution_count": 3,
     "metadata": {},
     "output_type": "execute_result"
    }
   ],
   "source": [
    "col_names = model.feature_names_in_\n",
    "col_names"
   ]
  },
  {
   "cell_type": "code",
   "execution_count": 4,
   "id": "53203593-c4d4-49df-97ad-26389af008c5",
   "metadata": {},
   "outputs": [
    {
     "name": "stdout",
     "output_type": "stream",
     "text": [
      "predicted_Selling_Price : 3.940946408927516\n"
     ]
    }
   ],
   "source": [
    "Year = 2014\n",
    "Present_Price = 5.59\n",
    "Kms_Driven = 27000.0\n",
    "Seller_Type = 'Dealer'\n",
    "Transmission = 'Manual'\n",
    "Fuel_Type = 'Petrol'\n",
    "\n",
    "Seller_Type = col_data['Seller_Type'][Seller_Type]\n",
    "Transmission = col_data['Transmission'][Transmission]\n",
    "\n",
    "Fuel_Type_index = np.where(col_names == 'Fuel_Type_'+ Fuel_Type)[0][0]\n",
    "\n",
    "test_array = np.zeros((1,model.n_features_in_))\n",
    "test_array[0,0] = Year\n",
    "test_array[0,1] = Present_Price\n",
    "test_array[0,2] = Kms_Driven\n",
    "test_array[0,3] = Seller_Type\n",
    "test_array[0,4] = Transmission\n",
    "test_array[0,Fuel_Type_index] = 1\n",
    "\n",
    "predicted_Selling_Price = model.predict(test_array)[0]\n",
    "print(\"predicted_Selling_Price :\",predicted_Selling_Price)"
   ]
  },
  {
   "cell_type": "code",
   "execution_count": null,
   "id": "33c21265-bd1b-4e61-9b99-f43f1bc2a698",
   "metadata": {},
   "outputs": [],
   "source": []
  },
  {
   "cell_type": "code",
   "execution_count": null,
   "id": "d15cea7a-d970-4d39-b2a2-d522677b228e",
   "metadata": {},
   "outputs": [],
   "source": []
  },
  {
   "cell_type": "code",
   "execution_count": null,
   "id": "fa4c75f0-f266-4aff-b1cf-9e813168df26",
   "metadata": {},
   "outputs": [],
   "source": []
  }
 ],
 "metadata": {
  "kernelspec": {
   "display_name": "Python 3 (ipykernel)",
   "language": "python",
   "name": "python3"
  },
  "language_info": {
   "codemirror_mode": {
    "name": "ipython",
    "version": 3
   },
   "file_extension": ".py",
   "mimetype": "text/x-python",
   "name": "python",
   "nbconvert_exporter": "python",
   "pygments_lexer": "ipython3",
   "version": "3.11.5"
  }
 },
 "nbformat": 4,
 "nbformat_minor": 5
}
